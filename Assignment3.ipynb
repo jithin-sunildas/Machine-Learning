{
 "cells": [
  {
   "cell_type": "code",
   "execution_count": 1,
   "id": "b2e8deb9-dfa1-41e9-bf5b-016b5de8bbbe",
   "metadata": {},
   "outputs": [
    {
     "name": "stdout",
     "output_type": "stream",
     "text": [
      "Dataset Shape: (20640, 9)\n",
      "Columns: ['MedInc', 'HouseAge', 'AveRooms', 'AveBedrms', 'Population', 'AveOccup', 'Latitude', 'Longitude', 'MedHouseVal']\n",
      "   MedInc  HouseAge  AveRooms  AveBedrms  Population  AveOccup  Latitude  \\\n",
      "0  8.3252      41.0  6.984127   1.023810       322.0  2.555556     37.88   \n",
      "1  8.3014      21.0  6.238137   0.971880      2401.0  2.109842     37.86   \n",
      "2  7.2574      52.0  8.288136   1.073446       496.0  2.802260     37.85   \n",
      "3  5.6431      52.0  5.817352   1.073059       558.0  2.547945     37.85   \n",
      "4  3.8462      52.0  6.281853   1.081081       565.0  2.181467     37.85   \n",
      "\n",
      "   Longitude  MedHouseVal  \n",
      "0    -122.23        4.526  \n",
      "1    -122.22        3.585  \n",
      "2    -122.24        3.521  \n",
      "3    -122.25        3.413  \n",
      "4    -122.25        3.422  \n",
      "\n",
      "Missing values per column:\n",
      "MedInc         0\n",
      "HouseAge       0\n",
      "AveRooms       0\n",
      "AveBedrms      0\n",
      "Population     0\n",
      "AveOccup       0\n",
      "Latitude       0\n",
      "Longitude      0\n",
      "MedHouseVal    0\n",
      "dtype: int64\n",
      "\n",
      "Preprocessing complete!\n"
     ]
    }
   ],
   "source": [
    "# Import necessary libraries\n",
    "import pandas as pd\n",
    "import numpy as np\n",
    "from sklearn.datasets import fetch_california_housing\n",
    "from sklearn.model_selection import train_test_split\n",
    "from sklearn.preprocessing import StandardScaler\n",
    "\n",
    "# Load the California Housing dataset\n",
    "california = fetch_california_housing()\n",
    "\n",
    "# Convert to pandas DataFrame\n",
    "df = pd.DataFrame(data=california.data, columns=california.feature_names)\n",
    "df['MedHouseVal'] = california.target\n",
    "\n",
    "# Display basic info\n",
    "print(\"Dataset Shape:\", df.shape)\n",
    "print(\"Columns:\", df.columns.tolist())\n",
    "print(df.head())\n",
    "\n",
    "# Check for missing values\n",
    "print(\"\\nMissing values per column:\")\n",
    "print(df.isnull().sum())\n",
    "\n",
    "# In this dataset, there are no missing values; if there were any, we would treat them accordingly.\n",
    "# We perform feature scaling on the numerical features as their ranges vary considerably.\n",
    "features = california.feature_names  # List of features\n",
    "target = 'MedHouseVal'\n",
    "\n",
    "# Split into training and test sets\n",
    "X_train, X_test, y_train, y_test = train_test_split(df[features], df[target],\n",
    "                                                    test_size=0.2, random_state=42)\n",
    "\n",
    "# Standardize the features\n",
    "scaler = StandardScaler()\n",
    "X_train_scaled = scaler.fit_transform(X_train)\n",
    "X_test_scaled = scaler.transform(X_test)\n",
    "\n",
    "# Convert back to DataFrame for convenience\n",
    "X_train_scaled = pd.DataFrame(X_train_scaled, columns=features)\n",
    "X_test_scaled = pd.DataFrame(X_test_scaled, columns=features)\n",
    "\n",
    "print(\"\\nPreprocessing complete!\")\n"
   ]
  },
  {
   "cell_type": "code",
   "execution_count": 2,
   "id": "afa14268-6395-4042-9636-d259e2098b15",
   "metadata": {},
   "outputs": [
    {
     "name": "stdout",
     "output_type": "stream",
     "text": [
      "Linear Regression -- MSE: 0.5559, MAE: 0.5332, R2: 0.5758\n",
      "Decision Tree -- MSE: 0.4940, MAE: 0.4539, R2: 0.6230\n",
      "Random Forest -- MSE: 0.2552, MAE: 0.3274, R2: 0.8053\n",
      "Gradient Boosting -- MSE: 0.2940, MAE: 0.3717, R2: 0.7756\n",
      "Support Vector Regressor -- MSE: 0.3570, MAE: 0.3986, R2: 0.7276\n"
     ]
    }
   ],
   "source": [
    "# Import regression algorithms and evaluation metrics\n",
    "from sklearn.linear_model import LinearRegression\n",
    "from sklearn.tree import DecisionTreeRegressor\n",
    "from sklearn.ensemble import RandomForestRegressor, GradientBoostingRegressor\n",
    "from sklearn.svm import SVR\n",
    "from sklearn.metrics import mean_squared_error, mean_absolute_error, r2_score\n",
    "\n",
    "# Define models in a dictionary for easier iteration\n",
    "models = {\n",
    "    'Linear Regression': LinearRegression(),\n",
    "    'Decision Tree': DecisionTreeRegressor(random_state=42),\n",
    "    'Random Forest': RandomForestRegressor(random_state=42),\n",
    "    'Gradient Boosting': GradientBoostingRegressor(random_state=42),\n",
    "    'Support Vector Regressor': SVR()\n",
    "}\n",
    "\n",
    "# Dictionary to store results\n",
    "results = {}\n",
    "\n",
    "# Train and evaluate each model\n",
    "for name, model in models.items():\n",
    "    # For models that require scaled data (SVR), we use the scaled X_train; others can use X_train_scaled too.\n",
    "    model.fit(X_train_scaled, y_train)\n",
    "    y_pred = model.predict(X_test_scaled)\n",
    "    \n",
    "    mse = mean_squared_error(y_test, y_pred)\n",
    "    mae = mean_absolute_error(y_test, y_pred)\n",
    "    r2 = r2_score(y_test, y_pred)\n",
    "    \n",
    "    results[name] = {'MSE': mse, 'MAE': mae, 'R2': r2}\n",
    "    print(f\"{name} -- MSE: {mse:.4f}, MAE: {mae:.4f}, R2: {r2:.4f}\")\n"
   ]
  },
  {
   "cell_type": "code",
   "execution_count": 3,
   "id": "b2fb956d-7f12-455e-b4a1-1e97da5bab6f",
   "metadata": {},
   "outputs": [
    {
     "name": "stdout",
     "output_type": "stream",
     "text": [
      "Model Evaluation Results:\n",
      "                               MSE       MAE        R2\n",
      "Linear Regression         0.555892  0.533200  0.575788\n",
      "Decision Tree             0.493969  0.453904  0.623042\n",
      "Random Forest             0.255170  0.327425  0.805275\n",
      "Gradient Boosting         0.293999  0.371650  0.775643\n",
      "Support Vector Regressor  0.357004  0.398599  0.727563\n",
      "\n",
      "Best Performing Model: Random Forest (Highest R2)\n",
      "Worst Performing Model: Linear Regression (Lowest R2)\n"
     ]
    }
   ],
   "source": [
    "# Display results in a DataFrame for easier comparison\n",
    "results_df = pd.DataFrame(results).T\n",
    "results_df = results_df[['MSE', 'MAE', 'R2']]\n",
    "print(\"Model Evaluation Results:\")\n",
    "print(results_df)\n",
    "\n",
    "# Identify best and worst models based on R2 (higher is better)\n",
    "best_model = results_df['R2'].idxmax()\n",
    "worst_model = results_df['R2'].idxmin()\n",
    "\n",
    "print(f\"\\nBest Performing Model: {best_model} (Highest R2)\")\n",
    "print(f\"Worst Performing Model: {worst_model} (Lowest R2)\")\n"
   ]
  },
  {
   "cell_type": "code",
   "execution_count": 4,
   "id": "ef8dded3-9a4f-4cbc-8d5f-d4ee8c19774e",
   "metadata": {},
   "outputs": [
    {
     "name": "stdout",
     "output_type": "stream",
     "text": [
      "Regression Assignment 3 completed! Please refer to the notebook documentation for detailed explanations.\n"
     ]
    }
   ],
   "source": [
    "# You can also add markdown cells to document your process and justification for each step.\n",
    "print(\"Regression Assignment 3 completed! Please refer to the notebook documentation for detailed explanations.\")"
   ]
  }
 ],
 "metadata": {
  "kernelspec": {
   "display_name": "Python 3 (ipykernel)",
   "language": "python",
   "name": "python3"
  },
  "language_info": {
   "codemirror_mode": {
    "name": "ipython",
    "version": 3
   },
   "file_extension": ".py",
   "mimetype": "text/x-python",
   "name": "python",
   "nbconvert_exporter": "python",
   "pygments_lexer": "ipython3",
   "version": "3.12.7"
  }
 },
 "nbformat": 4,
 "nbformat_minor": 5
}
